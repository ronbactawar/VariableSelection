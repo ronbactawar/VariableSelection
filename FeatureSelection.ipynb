{
  "cells": [
    {
      "cell_type": "code",
      "source": [
        "using DataFrames\n",
        "using Queryverse\n",
        "using Statistics\n",
        "using StatsBase\n",
        "using HypothesisTests"
      ],
      "outputs": [],
      "execution_count": 1,
      "metadata": {
        "execution": {
          "iopub.execute_input": "2021-10-07T19:33:45.321Z",
          "iopub.status.busy": "2021-10-07T19:33:45.017Z",
          "iopub.status.idle": "2021-10-07T19:33:51.018Z"
        },
        "jupyter": {
          "outputs_hidden": false,
          "source_hidden": false
        },
        "nteract": {
          "transient": {
            "deleting": false
          }
        }
      }
    },
    {
      "cell_type": "code",
      "source": [
        "data = load(\"/home/chigball/Data/houseprice.csv\") |>\n",
        "@mutate(WhiteMarble = string(_.WhiteMarble), Floors = string(_.Floors)) |> DataFrame;\n",
        "describe(data) |> @select(:variable, :eltype) |> DataFrame\n"
      ],
      "outputs": [
        {
          "output_type": "execute_result",
          "execution_count": 2,
          "data": {
            "text/plain": "\u001b[1m16×2 DataFrame\u001b[0m\n\u001b[1m Row \u001b[0m│\u001b[1m variable     \u001b[0m\u001b[1m eltype   \u001b[0m\n\u001b[1m     \u001b[0m│\u001b[90m Symbol       \u001b[0m\u001b[90m DataType \u001b[0m\n─────┼────────────────────────\n   1 │ Area          Int64\n   2 │ Garage        Int64\n   3 │ FirePlace     Int64\n   4 │ Baths         Int64\n   5 │ WhiteMarble   String\n   6 │ BlackMarble   Int64\n   7 │ IndianMarble  Int64\n   8 │ Floors        String\n   9 │ City          Int64\n  10 │ Solar         Int64\n  11 │ Electric      Int64\n  12 │ Fiber         Int64\n  13 │ GlassDoors    Int64\n  14 │ SwimingPool   Int64\n  15 │ Garden        Int64\n  16 │ Prices        Int64",
            "text/html": "<div class=\"data-frame\"><p>16 rows × 2 columns</p><table class=\"data-frame\"><thead><tr><th></th><th>variable</th><th>eltype</th></tr><tr><th></th><th title=\"Symbol\">Symbol</th><th title=\"DataType\">DataType</th></tr></thead><tbody><tr><th>1</th><td>Area</td><td>Int64</td></tr><tr><th>2</th><td>Garage</td><td>Int64</td></tr><tr><th>3</th><td>FirePlace</td><td>Int64</td></tr><tr><th>4</th><td>Baths</td><td>Int64</td></tr><tr><th>5</th><td>WhiteMarble</td><td>String</td></tr><tr><th>6</th><td>BlackMarble</td><td>Int64</td></tr><tr><th>7</th><td>IndianMarble</td><td>Int64</td></tr><tr><th>8</th><td>Floors</td><td>String</td></tr><tr><th>9</th><td>City</td><td>Int64</td></tr><tr><th>10</th><td>Solar</td><td>Int64</td></tr><tr><th>11</th><td>Electric</td><td>Int64</td></tr><tr><th>12</th><td>Fiber</td><td>Int64</td></tr><tr><th>13</th><td>GlassDoors</td><td>Int64</td></tr><tr><th>14</th><td>SwimingPool</td><td>Int64</td></tr><tr><th>15</th><td>Garden</td><td>Int64</td></tr><tr><th>16</th><td>Prices</td><td>Int64</td></tr></tbody></table></div>",
            "text/latex": "\\begin{tabular}{r|cc}\n\t& variable & eltype\\\\\n\t\\hline\n\t& Symbol & DataType\\\\\n\t\\hline\n\t1 & Area & Int64 \\\\\n\t2 & Garage & Int64 \\\\\n\t3 & FirePlace & Int64 \\\\\n\t4 & Baths & Int64 \\\\\n\t5 & WhiteMarble & String \\\\\n\t6 & BlackMarble & Int64 \\\\\n\t7 & IndianMarble & Int64 \\\\\n\t8 & Floors & String \\\\\n\t9 & City & Int64 \\\\\n\t10 & Solar & Int64 \\\\\n\t11 & Electric & Int64 \\\\\n\t12 & Fiber & Int64 \\\\\n\t13 & GlassDoors & Int64 \\\\\n\t14 & SwimingPool & Int64 \\\\\n\t15 & Garden & Int64 \\\\\n\t16 & Prices & Int64 \\\\\n\\end{tabular}\n"
          },
          "metadata": {}
        }
      ],
      "execution_count": 2,
      "metadata": {
        "execution": {
          "iopub.execute_input": "2021-10-07T19:33:51.332Z",
          "iopub.status.busy": "2021-10-07T19:33:51.026Z",
          "iopub.status.idle": "2021-10-07T19:34:03.120Z"
        },
        "jupyter": {
          "outputs_hidden": false,
          "source_hidden": false
        },
        "nteract": {
          "transient": {
            "deleting": false
          }
        }
      }
    },
    {
      "cell_type": "code",
      "source": [
        "first(data, 5)"
      ],
      "outputs": [
        {
          "output_type": "execute_result",
          "execution_count": 3,
          "data": {
            "text/plain": "\u001b[1m5×16 DataFrame\u001b[0m\n\u001b[1m Row \u001b[0m│\u001b[1m Area  \u001b[0m\u001b[1m Garage \u001b[0m\u001b[1m FirePlace \u001b[0m\u001b[1m Baths \u001b[0m\u001b[1m WhiteMarble \u001b[0m\u001b[1m BlackMarble \u001b[0m\u001b[1m IndianMarble\u001b[0m ⋯\n\u001b[1m     \u001b[0m│\u001b[90m Int64 \u001b[0m\u001b[90m Int64  \u001b[0m\u001b[90m Int64     \u001b[0m\u001b[90m Int64 \u001b[0m\u001b[90m String      \u001b[0m\u001b[90m Int64       \u001b[0m\u001b[90m Int64       \u001b[0m ⋯\n─────┼──────────────────────────────────────────────────────────────────────────\n   1 │   164       2          0      2  0                      1             0 ⋯\n   2 │    84       2          0      4  0                      0             1\n   3 │   190       2          4      4  1                      0             0\n   4 │    75       2          4      4  0                      0             1\n   5 │   148       1          4      2  1                      0             0 ⋯\n\u001b[36m                                                               9 columns omitted\u001b[0m",
            "text/html": "<div class=\"data-frame\"><p>5 rows × 16 columns (omitted printing of 8 columns)</p><table class=\"data-frame\"><thead><tr><th></th><th>Area</th><th>Garage</th><th>FirePlace</th><th>Baths</th><th>WhiteMarble</th><th>BlackMarble</th><th>IndianMarble</th><th>Floors</th></tr><tr><th></th><th title=\"Int64\">Int64</th><th title=\"Int64\">Int64</th><th title=\"Int64\">Int64</th><th title=\"Int64\">Int64</th><th title=\"String\">String</th><th title=\"Int64\">Int64</th><th title=\"Int64\">Int64</th><th title=\"String\">String</th></tr></thead><tbody><tr><th>1</th><td>164</td><td>2</td><td>0</td><td>2</td><td>0</td><td>1</td><td>0</td><td>0</td></tr><tr><th>2</th><td>84</td><td>2</td><td>0</td><td>4</td><td>0</td><td>0</td><td>1</td><td>1</td></tr><tr><th>3</th><td>190</td><td>2</td><td>4</td><td>4</td><td>1</td><td>0</td><td>0</td><td>0</td></tr><tr><th>4</th><td>75</td><td>2</td><td>4</td><td>4</td><td>0</td><td>0</td><td>1</td><td>1</td></tr><tr><th>5</th><td>148</td><td>1</td><td>4</td><td>2</td><td>1</td><td>0</td><td>0</td><td>1</td></tr></tbody></table></div>",
            "text/latex": "\\begin{tabular}{r|ccccccccc}\n\t& Area & Garage & FirePlace & Baths & WhiteMarble & BlackMarble & IndianMarble & Floors & \\\\\n\t\\hline\n\t& Int64 & Int64 & Int64 & Int64 & String & Int64 & Int64 & String & \\\\\n\t\\hline\n\t1 & 164 & 2 & 0 & 2 & 0 & 1 & 0 & 0 & $\\dots$ \\\\\n\t2 & 84 & 2 & 0 & 4 & 0 & 0 & 1 & 1 & $\\dots$ \\\\\n\t3 & 190 & 2 & 4 & 4 & 1 & 0 & 0 & 0 & $\\dots$ \\\\\n\t4 & 75 & 2 & 4 & 4 & 0 & 0 & 1 & 1 & $\\dots$ \\\\\n\t5 & 148 & 1 & 4 & 2 & 1 & 0 & 0 & 1 & $\\dots$ \\\\\n\\end{tabular}\n"
          },
          "metadata": {}
        }
      ],
      "execution_count": 3,
      "metadata": {
        "execution": {
          "iopub.execute_input": "2021-10-07T19:34:03.130Z",
          "iopub.status.busy": "2021-10-07T19:34:03.127Z",
          "iopub.status.idle": "2021-10-07T19:34:03.333Z"
        },
        "jupyter": {
          "outputs_hidden": false,
          "source_hidden": false
        },
        "nteract": {
          "transient": {
            "deleting": false
          }
        }
      }
    },
    {
      "cell_type": "code",
      "source": [
        "# Function for cat/con\n",
        "# The test for such combo is \"KruskalWallis\"\n",
        "function gamma(cat_var::Vector{String}, con_var::Vector{<: Number})\n",
        "  data = DataFrame(levels = cat_var, values = con_var)\n",
        "  levels = data.levels |> Set |> collect\n",
        "  vec_list = Vector{Float64}[]\n",
        "  for i in levels\n",
        "    filtered_df = data[data.levels .== i, :]\n",
        "    filtered_vec = filtered_df.values\n",
        "    push!(vec_list, filtered_vec)  \n",
        "  end\n",
        "  p = KruskalWallisTest(vec_list...) |> pvalue  \n",
        "  p = round(p, digits  = 3)\n",
        "  return (p, \"KruskalWallis\")\n",
        "end\n",
        "\n",
        "# Function for con/cat\n",
        "# The test for such combo is \"KruskalWallis\"\n",
        "function gamma(con_var::Vector{<: Number}, cat_var::Vector{String})\n",
        "  gamma(cat_var, con_var)\n",
        "end\n",
        "\n",
        "# Function for cat/cat\n",
        "# The test for such combo is \"ChiSquared\"\n",
        "function gamma(cat_var1::Vector{String}, cat_var2::Vector{String})\n",
        "  data = DataFrame(levels1 = cat_var1, levels2 = cat_var2)\n",
        "  ul1 = data.levels1 |> Set |> collect |> sort\n",
        "  ul2 = data.levels2 |> Set |> collect |> sort\n",
        "  output = zeros(Int64, length(ul1), length(ul2))\n",
        "  for i in eachindex(ul1), j in eachindex(ul2)\n",
        "    tv = (data.levels1 .== ul1[i]) .& (data.levels2 .== ul2[j])\n",
        "    output[i,j] = sum(tv)  \n",
        "  end\n",
        "  p = ChisqTest(output) |> pvalue\n",
        "  return (p, \"ChiSquared\")\n",
        "end\n",
        "\n",
        "\n",
        "# Function for con/con\n",
        "function gamma(con_var1::Vector{<: Number}, con_var2::Vector{<: Number})\n",
        "  th = 20 # Treshold for if vector should be category or not\n",
        "  \n",
        "  # Get the # of levels for each vector\n",
        "  l1 = con_var1 |> Set |> length\n",
        "  l2 = con_var2 |> Set |> length\n",
        "  \n",
        "  # Get the string vector of each vector\n",
        "  con_var1_st = string.(con_var1)\n",
        "  con_var2_st = string.(con_var2)\n",
        "  \n",
        "  # Treat vectors with low number of levels as categories and apply the right test\n",
        "  if l1 <= th && l2 <= th\n",
        "    gamma(con_var1_st, con_var1_st) # Apply ChiSquared test\n",
        "  elseif l1 <= th && l2 > th\n",
        "    gamma(con_var1_st, con_var2)  # Apply \"KruskalWallis\" test\n",
        "  elseif l1 > th && l2 <= th\n",
        "    gamma(con_var1, con_var2_st) # Apply \"KruskalWallis\" test\n",
        "  else\n",
        "    p = CorrelationTest(con_var1, con_var2) |> pvalue # Apply \"Correlation\" test\n",
        "    return (p, \"Correlation\")\n",
        "  end\n",
        "end\n",
        "\n",
        "# Finds the most important variables against the target\n",
        "function variable_importance(data::DataFrame, target::Symbol)\n",
        "  X = select(data, Not(target)) # Get DataFrame X of x variables\n",
        "  y = data[!, target] # Obtain y vector\n",
        "  col_names = names(X) # Name vector of X dataframe\n",
        "  output = DataFrame(feature = String[], test = String[], pvalue = Float64[])\n",
        "  for i in col_names\n",
        "    x = X[!, i]\n",
        "    J = gamma(x, y)\n",
        "    push!(output, [i, J[2], J[1]])\n",
        "  end\n",
        "  tv = (output.pvalue .< 0.05)\n",
        "  results = output[tv, :]\n",
        "  return results\n",
        "end"
      ],
      "outputs": [
        {
          "output_type": "execute_result",
          "execution_count": 4,
          "data": {
            "text/plain": "variable_importance (generic function with 1 method)"
          },
          "metadata": {}
        }
      ],
      "execution_count": 4,
      "metadata": {
        "execution": {
          "iopub.execute_input": "2021-10-07T19:34:03.341Z",
          "iopub.status.busy": "2021-10-07T19:34:03.338Z",
          "iopub.status.idle": "2021-10-07T19:34:03.508Z"
        },
        "jupyter": {
          "outputs_hidden": false,
          "source_hidden": false
        },
        "nteract": {
          "transient": {
            "deleting": false
          }
        }
      }
    },
    {
      "cell_type": "code",
      "source": [
        "white_marble = data.WhiteMarble # Catogory Data 1\n",
        "floors = data.Floors # Catogory Data 2\n",
        "prices = data.Prices # Continous Data 1\n",
        "area = data.Area # Continous Data 2\n",
        "baths = data.Baths # Unconverted ints\n",
        "fiber = data.Fiber # Unconverted ints\n",
        "gamma(baths, fiber)"
      ],
      "outputs": [
        {
          "output_type": "execute_result",
          "execution_count": 5,
          "data": {
            "text/plain": "(0.0, \"ChiSquared\")"
          },
          "metadata": {}
        }
      ],
      "execution_count": 5,
      "metadata": {
        "execution": {
          "iopub.execute_input": "2021-10-07T19:34:03.516Z",
          "iopub.status.busy": "2021-10-07T19:34:03.512Z",
          "iopub.status.idle": "2021-10-07T19:34:05.612Z"
        },
        "jupyter": {
          "outputs_hidden": false,
          "source_hidden": false
        },
        "nteract": {
          "transient": {
            "deleting": false
          }
        }
      }
    },
    {
      "cell_type": "code",
      "source": [
        "variable_importance(data, :Prices)"
      ],
      "outputs": [
        {
          "output_type": "execute_result",
          "execution_count": 9,
          "data": {
            "text/plain": "\u001b[1m13×3 DataFrame\u001b[0m\n\u001b[1m Row \u001b[0m│\u001b[1m feature      \u001b[0m\u001b[1m test          \u001b[0m\u001b[1m pvalue  \u001b[0m\n\u001b[1m     \u001b[0m│\u001b[90m String       \u001b[0m\u001b[90m String        \u001b[0m\u001b[90m Float64 \u001b[0m\n─────┼──────────────────────────────────────\n   1 │ Area          Correlation        0.0\n   2 │ Garage        KruskalWallis      0.0\n   3 │ FirePlace     KruskalWallis      0.0\n   4 │ Baths         KruskalWallis      0.0\n   5 │ WhiteMarble   KruskalWallis      0.0\n   6 │ BlackMarble   KruskalWallis      0.0\n   7 │ IndianMarble  KruskalWallis      0.0\n   8 │ Floors        KruskalWallis      0.0\n   9 │ City          KruskalWallis      0.0\n  10 │ Solar         KruskalWallis      0.0\n  11 │ Electric      KruskalWallis      0.0\n  12 │ Fiber         KruskalWallis      0.0\n  13 │ GlassDoors    KruskalWallis      0.0",
            "text/html": "<div class=\"data-frame\"><p>13 rows × 3 columns</p><table class=\"data-frame\"><thead><tr><th></th><th>feature</th><th>test</th><th>pvalue</th></tr><tr><th></th><th title=\"String\">String</th><th title=\"String\">String</th><th title=\"Float64\">Float64</th></tr></thead><tbody><tr><th>1</th><td>Area</td><td>Correlation</td><td>0.0</td></tr><tr><th>2</th><td>Garage</td><td>KruskalWallis</td><td>0.0</td></tr><tr><th>3</th><td>FirePlace</td><td>KruskalWallis</td><td>0.0</td></tr><tr><th>4</th><td>Baths</td><td>KruskalWallis</td><td>0.0</td></tr><tr><th>5</th><td>WhiteMarble</td><td>KruskalWallis</td><td>0.0</td></tr><tr><th>6</th><td>BlackMarble</td><td>KruskalWallis</td><td>0.0</td></tr><tr><th>7</th><td>IndianMarble</td><td>KruskalWallis</td><td>0.0</td></tr><tr><th>8</th><td>Floors</td><td>KruskalWallis</td><td>0.0</td></tr><tr><th>9</th><td>City</td><td>KruskalWallis</td><td>0.0</td></tr><tr><th>10</th><td>Solar</td><td>KruskalWallis</td><td>0.0</td></tr><tr><th>11</th><td>Electric</td><td>KruskalWallis</td><td>0.0</td></tr><tr><th>12</th><td>Fiber</td><td>KruskalWallis</td><td>0.0</td></tr><tr><th>13</th><td>GlassDoors</td><td>KruskalWallis</td><td>0.0</td></tr></tbody></table></div>",
            "text/latex": "\\begin{tabular}{r|ccc}\n\t& feature & test & pvalue\\\\\n\t\\hline\n\t& String & String & Float64\\\\\n\t\\hline\n\t1 & Area & Correlation & 0.0 \\\\\n\t2 & Garage & KruskalWallis & 0.0 \\\\\n\t3 & FirePlace & KruskalWallis & 0.0 \\\\\n\t4 & Baths & KruskalWallis & 0.0 \\\\\n\t5 & WhiteMarble & KruskalWallis & 0.0 \\\\\n\t6 & BlackMarble & KruskalWallis & 0.0 \\\\\n\t7 & IndianMarble & KruskalWallis & 0.0 \\\\\n\t8 & Floors & KruskalWallis & 0.0 \\\\\n\t9 & City & KruskalWallis & 0.0 \\\\\n\t10 & Solar & KruskalWallis & 0.0 \\\\\n\t11 & Electric & KruskalWallis & 0.0 \\\\\n\t12 & Fiber & KruskalWallis & 0.0 \\\\\n\t13 & GlassDoors & KruskalWallis & 0.0 \\\\\n\\end{tabular}\n"
          },
          "metadata": {}
        }
      ],
      "execution_count": 9,
      "metadata": {
        "execution": {
          "iopub.execute_input": "2021-10-07T19:35:01.296Z",
          "iopub.status.busy": "2021-10-07T19:35:01.288Z",
          "iopub.status.idle": "2021-10-07T19:35:03.203Z"
        },
        "jupyter": {
          "outputs_hidden": false,
          "source_hidden": false
        },
        "nteract": {
          "transient": {
            "deleting": false
          }
        }
      }
    },
    {
      "cell_type": "code",
      "source": [
        "data2 = load(\"/home/chigball/Data/train.csv\") |> @select(2,3,5,7,8,12) |> @filter(_.Embarked != \"\") |> DataFrame\n",
        "first(data2, 8)\n"
      ],
      "outputs": [
        {
          "output_type": "execute_result",
          "execution_count": 10,
          "data": {
            "text/plain": "\u001b[1m8×6 DataFrame\u001b[0m\n\u001b[1m Row \u001b[0m│\u001b[1m Survived \u001b[0m\u001b[1m Pclass \u001b[0m\u001b[1m Sex    \u001b[0m\u001b[1m SibSp \u001b[0m\u001b[1m Parch \u001b[0m\u001b[1m Embarked \u001b[0m\n\u001b[1m     \u001b[0m│\u001b[90m Int64    \u001b[0m\u001b[90m Int64  \u001b[0m\u001b[90m String \u001b[0m\u001b[90m Int64 \u001b[0m\u001b[90m Int64 \u001b[0m\u001b[90m String   \u001b[0m\n─────┼──────────────────────────────────────────────────\n   1 │        0       3  male        1      0  S\n   2 │        1       1  female      1      0  C\n   3 │        1       3  female      0      0  S\n   4 │        1       1  female      1      0  S\n   5 │        0       3  male        0      0  S\n   6 │        0       3  male        0      0  Q\n   7 │        0       1  male        0      0  S\n   8 │        0       3  male        3      1  S",
            "text/html": "<div class=\"data-frame\"><p>8 rows × 6 columns</p><table class=\"data-frame\"><thead><tr><th></th><th>Survived</th><th>Pclass</th><th>Sex</th><th>SibSp</th><th>Parch</th><th>Embarked</th></tr><tr><th></th><th title=\"Int64\">Int64</th><th title=\"Int64\">Int64</th><th title=\"String\">String</th><th title=\"Int64\">Int64</th><th title=\"Int64\">Int64</th><th title=\"String\">String</th></tr></thead><tbody><tr><th>1</th><td>0</td><td>3</td><td>male</td><td>1</td><td>0</td><td>S</td></tr><tr><th>2</th><td>1</td><td>1</td><td>female</td><td>1</td><td>0</td><td>C</td></tr><tr><th>3</th><td>1</td><td>3</td><td>female</td><td>0</td><td>0</td><td>S</td></tr><tr><th>4</th><td>1</td><td>1</td><td>female</td><td>1</td><td>0</td><td>S</td></tr><tr><th>5</th><td>0</td><td>3</td><td>male</td><td>0</td><td>0</td><td>S</td></tr><tr><th>6</th><td>0</td><td>3</td><td>male</td><td>0</td><td>0</td><td>Q</td></tr><tr><th>7</th><td>0</td><td>1</td><td>male</td><td>0</td><td>0</td><td>S</td></tr><tr><th>8</th><td>0</td><td>3</td><td>male</td><td>3</td><td>1</td><td>S</td></tr></tbody></table></div>",
            "text/latex": "\\begin{tabular}{r|cccccc}\n\t& Survived & Pclass & Sex & SibSp & Parch & Embarked\\\\\n\t\\hline\n\t& Int64 & Int64 & String & Int64 & Int64 & String\\\\\n\t\\hline\n\t1 & 0 & 3 & male & 1 & 0 & S \\\\\n\t2 & 1 & 1 & female & 1 & 0 & C \\\\\n\t3 & 1 & 3 & female & 0 & 0 & S \\\\\n\t4 & 1 & 1 & female & 1 & 0 & S \\\\\n\t5 & 0 & 3 & male & 0 & 0 & S \\\\\n\t6 & 0 & 3 & male & 0 & 0 & Q \\\\\n\t7 & 0 & 1 & male & 0 & 0 & S \\\\\n\t8 & 0 & 3 & male & 3 & 1 & S \\\\\n\\end{tabular}\n"
          },
          "metadata": {}
        }
      ],
      "execution_count": 10,
      "metadata": {
        "execution": {
          "iopub.execute_input": "2021-10-07T19:35:16.373Z",
          "iopub.status.busy": "2021-10-07T19:35:16.369Z",
          "iopub.status.idle": "2021-10-07T19:35:16.485Z"
        },
        "jupyter": {
          "outputs_hidden": false,
          "source_hidden": false
        },
        "nteract": {
          "transient": {
            "deleting": false
          }
        }
      }
    },
    {
      "cell_type": "code",
      "source": [
        "variable_importance(data2, :Survived)"
      ],
      "outputs": [
        {
          "output_type": "execute_result",
          "execution_count": 11,
          "data": {
            "text/plain": "\u001b[1m5×3 DataFrame\u001b[0m\n\u001b[1m Row \u001b[0m│\u001b[1m feature  \u001b[0m\u001b[1m test          \u001b[0m\u001b[1m pvalue  \u001b[0m\n\u001b[1m     \u001b[0m│\u001b[90m String   \u001b[0m\u001b[90m String        \u001b[0m\u001b[90m Float64 \u001b[0m\n─────┼──────────────────────────────────\n   1 │ Pclass    ChiSquared         0.0\n   2 │ Sex       KruskalWallis      0.0\n   3 │ SibSp     ChiSquared         0.0\n   4 │ Parch     ChiSquared         0.0\n   5 │ Embarked  KruskalWallis      0.0",
            "text/html": "<div class=\"data-frame\"><p>5 rows × 3 columns</p><table class=\"data-frame\"><thead><tr><th></th><th>feature</th><th>test</th><th>pvalue</th></tr><tr><th></th><th title=\"String\">String</th><th title=\"String\">String</th><th title=\"Float64\">Float64</th></tr></thead><tbody><tr><th>1</th><td>Pclass</td><td>ChiSquared</td><td>0.0</td></tr><tr><th>2</th><td>Sex</td><td>KruskalWallis</td><td>0.0</td></tr><tr><th>3</th><td>SibSp</td><td>ChiSquared</td><td>0.0</td></tr><tr><th>4</th><td>Parch</td><td>ChiSquared</td><td>0.0</td></tr><tr><th>5</th><td>Embarked</td><td>KruskalWallis</td><td>0.0</td></tr></tbody></table></div>",
            "text/latex": "\\begin{tabular}{r|ccc}\n\t& feature & test & pvalue\\\\\n\t\\hline\n\t& String & String & Float64\\\\\n\t\\hline\n\t1 & Pclass & ChiSquared & 0.0 \\\\\n\t2 & Sex & KruskalWallis & 0.0 \\\\\n\t3 & SibSp & ChiSquared & 0.0 \\\\\n\t4 & Parch & ChiSquared & 0.0 \\\\\n\t5 & Embarked & KruskalWallis & 0.0 \\\\\n\\end{tabular}\n"
          },
          "metadata": {}
        }
      ],
      "execution_count": 11,
      "metadata": {
        "execution": {
          "iopub.execute_input": "2021-10-07T19:35:21.106Z",
          "iopub.status.busy": "2021-10-07T19:35:21.099Z",
          "iopub.status.idle": "2021-10-07T19:35:21.118Z"
        },
        "jupyter": {
          "outputs_hidden": false,
          "source_hidden": false
        },
        "nteract": {
          "transient": {
            "deleting": false
          }
        }
      }
    },
    {
      "cell_type": "code",
      "source": [
        "    df = DataFrame(\n",
        "    A = [1, 2, 3, 4, 5, 6], \n",
        "    B = [\"a\", \"b\", \"a\", \"b\", \"a\", \"b\"],\n",
        "    C = [\"c\", \"d\", \"c\", \"d\", \"c\", \"c\"],\n",
        "    T = [.17, .23, .36, .46, .58, .67],\n",
        "    )"
      ],
      "outputs": [
        {
          "output_type": "execute_result",
          "execution_count": 12,
          "data": {
            "text/plain": "\u001b[1m6×4 DataFrame\u001b[0m\n\u001b[1m Row \u001b[0m│\u001b[1m A     \u001b[0m\u001b[1m B      \u001b[0m\u001b[1m C      \u001b[0m\u001b[1m T       \u001b[0m\n\u001b[1m     \u001b[0m│\u001b[90m Int64 \u001b[0m\u001b[90m String \u001b[0m\u001b[90m String \u001b[0m\u001b[90m Float64 \u001b[0m\n─────┼────────────────────────────────\n   1 │     1  a       c          0.17\n   2 │     2  b       d          0.23\n   3 │     3  a       c          0.36\n   4 │     4  b       d          0.46\n   5 │     5  a       c          0.58\n   6 │     6  b       c          0.67",
            "text/html": "<div class=\"data-frame\"><p>6 rows × 4 columns</p><table class=\"data-frame\"><thead><tr><th></th><th>A</th><th>B</th><th>C</th><th>T</th></tr><tr><th></th><th title=\"Int64\">Int64</th><th title=\"String\">String</th><th title=\"String\">String</th><th title=\"Float64\">Float64</th></tr></thead><tbody><tr><th>1</th><td>1</td><td>a</td><td>c</td><td>0.17</td></tr><tr><th>2</th><td>2</td><td>b</td><td>d</td><td>0.23</td></tr><tr><th>3</th><td>3</td><td>a</td><td>c</td><td>0.36</td></tr><tr><th>4</th><td>4</td><td>b</td><td>d</td><td>0.46</td></tr><tr><th>5</th><td>5</td><td>a</td><td>c</td><td>0.58</td></tr><tr><th>6</th><td>6</td><td>b</td><td>c</td><td>0.67</td></tr></tbody></table></div>",
            "text/latex": "\\begin{tabular}{r|cccc}\n\t& A & B & C & T\\\\\n\t\\hline\n\t& Int64 & String & String & Float64\\\\\n\t\\hline\n\t1 & 1 & a & c & 0.17 \\\\\n\t2 & 2 & b & d & 0.23 \\\\\n\t3 & 3 & a & c & 0.36 \\\\\n\t4 & 4 & b & d & 0.46 \\\\\n\t5 & 5 & a & c & 0.58 \\\\\n\t6 & 6 & b & c & 0.67 \\\\\n\\end{tabular}\n"
          },
          "metadata": {}
        }
      ],
      "execution_count": 12,
      "metadata": {
        "collapsed": true,
        "jupyter": {
          "source_hidden": false,
          "outputs_hidden": false
        },
        "nteract": {
          "transient": {
            "deleting": false
          }
        },
        "execution": {
          "iopub.status.busy": "2021-10-07T19:38:52.169Z",
          "iopub.execute_input": "2021-10-07T19:38:52.174Z",
          "iopub.status.idle": "2021-10-07T19:38:52.204Z"
        }
      }
    },
    {
      "cell_type": "code",
      "source": [
        "names(variable_importance(df, :T))"
      ],
      "outputs": [
        {
          "output_type": "stream",
          "name": "stderr",
          "text": [
            "┌ Warning: This test is only asymptotically correct and might be inaccurate for the given group size\n",
            "└ @ HypothesisTests /home/chigball/.julia/packages/HypothesisTests/V7PST/src/kruskal_wallis.jl:73\n",
            "┌ Warning: This test is only asymptotically correct and might be inaccurate for the given group size\n",
            "└ @ HypothesisTests /home/chigball/.julia/packages/HypothesisTests/V7PST/src/kruskal_wallis.jl:73\n"
          ]
        },
        {
          "output_type": "execute_result",
          "execution_count": 16,
          "data": {
            "text/plain": "3-element Vector{String}:\n \"feature\"\n \"test\"\n \"pvalue\""
          },
          "metadata": {}
        }
      ],
      "execution_count": 16,
      "metadata": {
        "collapsed": true,
        "jupyter": {
          "source_hidden": false,
          "outputs_hidden": false
        },
        "nteract": {
          "transient": {
            "deleting": false
          }
        },
        "execution": {
          "iopub.status.busy": "2021-10-07T19:41:16.254Z",
          "iopub.execute_input": "2021-10-07T19:41:16.260Z",
          "iopub.status.idle": "2021-10-07T19:41:17.246Z"
        }
      }
    }
  ],
  "metadata": {
    "kernel_info": {
      "name": "julia-1.6"
    },
    "kernelspec": {
      "display_name": "Julia 1.7.0-rc1",
      "language": "julia",
      "name": "julia-1.7"
    },
    "language_info": {
      "file_extension": ".jl",
      "name": "julia",
      "mimetype": "application/julia",
      "version": "1.7.0"
    },
    "nteract": {
      "version": "0.28.0"
    }
  },
  "nbformat": 4,
  "nbformat_minor": 1
}