{
  "cells": [
    {
      "cell_type": "code",
      "source": [
        "using DataFrames\n",
        "using Queryverse\n",
        "using Statistics\n",
        "using StatsBase\n",
        "using HypothesisTests"
      ],
      "outputs": [],
      "execution_count": 1,
      "metadata": {
        "execution": {
          "iopub.execute_input": "2021-10-07T19:33:45.321Z",
          "iopub.status.busy": "2021-10-07T19:33:45.017Z",
          "iopub.status.idle": "2021-10-07T19:33:51.018Z"
        },
        "jupyter": {
          "outputs_hidden": false,
          "source_hidden": false
        },
        "nteract": {
          "transient": {
            "deleting": false
          }
        }
      }
    },
    {
      "cell_type": "markdown",
      "source": [
        "## Main Functions\n",
        "These are the functions included in the source code. "
      ],
      "metadata": {
        "nteract": {
          "transient": {
            "deleting": false
          }
        }
      }
    },
    {
      "cell_type": "code",
      "source": [
        "# Function for cat/con\n",
        "# The test for such combo is \"KruskalWallis\"\n",
        "function gamma(cat_var::Vector{String}, con_var::Vector{<: Number})\n",
        "  data = DataFrame(levels = cat_var, values = con_var)\n",
        "  levels = data.levels |> Set |> collect\n",
        "  vec_list = Vector{Float64}[]\n",
        "  for i in levels\n",
        "    filtered_df = data[data.levels .== i, :]\n",
        "    filtered_vec = filtered_df.values\n",
        "    push!(vec_list, filtered_vec)  \n",
        "  end\n",
        "  p = KruskalWallisTest(vec_list...) |> pvalue  \n",
        "  p = round(p, digits  = 3)\n",
        "  return (p, \"KruskalWallis\")\n",
        "end\n",
        "\n",
        "# Function for con/cat\n",
        "# The test for such combo is \"KruskalWallis\"\n",
        "function gamma(con_var::Vector{<: Number}, cat_var::Vector{String})\n",
        "  gamma(cat_var, con_var)\n",
        "end\n",
        "\n",
        "# Function for cat/cat\n",
        "# The test for such combo is \"ChiSquared\"\n",
        "function gamma(cat_var1::Vector{String}, cat_var2::Vector{String})\n",
        "  data = DataFrame(levels1 = cat_var1, levels2 = cat_var2)\n",
        "  ul1 = data.levels1 |> Set |> collect |> sort\n",
        "  ul2 = data.levels2 |> Set |> collect |> sort\n",
        "  output = zeros(Int64, length(ul1), length(ul2))\n",
        "  for i in eachindex(ul1), j in eachindex(ul2)\n",
        "    tv = (data.levels1 .== ul1[i]) .& (data.levels2 .== ul2[j])\n",
        "    output[i,j] = sum(tv)  \n",
        "  end\n",
        "  p = ChisqTest(output) |> pvalue\n",
        "  return (p, \"ChiSquared\")\n",
        "end\n",
        "\n",
        "\n",
        "# Function for con/con\n",
        "function gamma(con_var1::Vector{<: Number}, con_var2::Vector{<: Number})\n",
        "  th = 20 # Treshold for if vector should be category or not\n",
        "  \n",
        "  # Get the # of levels for each vector\n",
        "  l1 = con_var1 |> Set |> length\n",
        "  l2 = con_var2 |> Set |> length\n",
        "  \n",
        "  # Get the string vector of each vector\n",
        "  con_var1_st = string.(con_var1)\n",
        "  con_var2_st = string.(con_var2)\n",
        "  \n",
        "  # Treat vectors with low number of levels as categories and apply the right test\n",
        "  if l1 <= th && l2 <= th\n",
        "    gamma(con_var1_st, con_var1_st) # Apply ChiSquared test\n",
        "  elseif l1 <= th && l2 > th\n",
        "    gamma(con_var1_st, con_var2)  # Apply \"KruskalWallis\" test\n",
        "  elseif l1 > th && l2 <= th\n",
        "    gamma(con_var1, con_var2_st) # Apply \"KruskalWallis\" test\n",
        "  else\n",
        "    p = CorrelationTest(con_var1, con_var2) |> pvalue # Apply \"Correlation\" test\n",
        "    return (p, \"Correlation\")\n",
        "  end\n",
        "end\n",
        "\n",
        "# Finds the most important variables against the target\n",
        "function variable_importance(data::DataFrame, target::Symbol)\n",
        "  X = select(data, Not(target)) # Get DataFrame X of x variables\n",
        "  y = data[!, target] # Obtain y vector\n",
        "  col_names = names(X) # Name vector of X dataframe\n",
        "  output = DataFrame(feature = String[], test = String[], pvalue = Float64[])\n",
        "  for i in col_names\n",
        "    x = X[!, i]\n",
        "    J = gamma(x, y)\n",
        "    push!(output, [i, J[2], J[1]])\n",
        "  end\n",
        "  tv = (output.pvalue .< 0.05)\n",
        "  results = output[tv, :]\n",
        "  return results\n",
        "end"
      ],
      "outputs": [
        {
          "output_type": "execute_result",
          "execution_count": 4,
          "data": {
            "text/plain": "variable_importance (generic function with 1 method)"
          },
          "metadata": {}
        }
      ],
      "execution_count": 4,
      "metadata": {
        "execution": {
          "iopub.execute_input": "2021-10-07T19:34:03.341Z",
          "iopub.status.busy": "2021-10-07T19:34:03.338Z",
          "iopub.status.idle": "2021-10-07T19:34:03.508Z"
        },
        "jupyter": {
          "outputs_hidden": false,
          "source_hidden": false
        },
        "nteract": {
          "transient": {
            "deleting": false
          }
        }
      }
    },
    {
      "cell_type": "markdown",
      "source": [
        "## Usage\n",
        "Here we pull in 6 variables, which are Survived, Pclass, Sex, SibSp, Parch and Embarked.  We would like to test how the rest of the variables effect \"Survived\".  "
      ],
      "metadata": {
        "nteract": {
          "transient": {
            "deleting": false
          }
        }
      }
    },
    {
      "cell_type": "code",
      "source": [
        "# Get titanic data\n",
        "titanic = load(\"/home/chigball/Data/train.csv\") |> @select(2,3,5,7,8,12) |> @filter(_.Embarked != \"\") |> DataFrame\n",
        "first(titanic, 10)\n",
        "\n"
      ],
      "outputs": [
        {
          "output_type": "execute_result",
          "execution_count": 30,
          "data": {
            "text/plain": "\u001b[1m10×6 DataFrame\u001b[0m\n\u001b[1m Row \u001b[0m│\u001b[1m Survived \u001b[0m\u001b[1m Pclass \u001b[0m\u001b[1m Sex    \u001b[0m\u001b[1m SibSp \u001b[0m\u001b[1m Parch \u001b[0m\u001b[1m Embarked \u001b[0m\n\u001b[1m     \u001b[0m│\u001b[90m Int64    \u001b[0m\u001b[90m Int64  \u001b[0m\u001b[90m String \u001b[0m\u001b[90m Int64 \u001b[0m\u001b[90m Int64 \u001b[0m\u001b[90m String   \u001b[0m\n─────┼──────────────────────────────────────────────────\n   1 │        0       3  male        1      0  S\n   2 │        1       1  female      1      0  C\n   3 │        1       3  female      0      0  S\n   4 │        1       1  female      1      0  S\n   5 │        0       3  male        0      0  S\n   6 │        0       3  male        0      0  Q\n   7 │        0       1  male        0      0  S\n   8 │        0       3  male        3      1  S\n   9 │        1       3  female      0      2  S\n  10 │        1       2  female      1      0  C",
            "text/html": "<div class=\"data-frame\"><p>10 rows × 6 columns</p><table class=\"data-frame\"><thead><tr><th></th><th>Survived</th><th>Pclass</th><th>Sex</th><th>SibSp</th><th>Parch</th><th>Embarked</th></tr><tr><th></th><th title=\"Int64\">Int64</th><th title=\"Int64\">Int64</th><th title=\"String\">String</th><th title=\"Int64\">Int64</th><th title=\"Int64\">Int64</th><th title=\"String\">String</th></tr></thead><tbody><tr><th>1</th><td>0</td><td>3</td><td>male</td><td>1</td><td>0</td><td>S</td></tr><tr><th>2</th><td>1</td><td>1</td><td>female</td><td>1</td><td>0</td><td>C</td></tr><tr><th>3</th><td>1</td><td>3</td><td>female</td><td>0</td><td>0</td><td>S</td></tr><tr><th>4</th><td>1</td><td>1</td><td>female</td><td>1</td><td>0</td><td>S</td></tr><tr><th>5</th><td>0</td><td>3</td><td>male</td><td>0</td><td>0</td><td>S</td></tr><tr><th>6</th><td>0</td><td>3</td><td>male</td><td>0</td><td>0</td><td>Q</td></tr><tr><th>7</th><td>0</td><td>1</td><td>male</td><td>0</td><td>0</td><td>S</td></tr><tr><th>8</th><td>0</td><td>3</td><td>male</td><td>3</td><td>1</td><td>S</td></tr><tr><th>9</th><td>1</td><td>3</td><td>female</td><td>0</td><td>2</td><td>S</td></tr><tr><th>10</th><td>1</td><td>2</td><td>female</td><td>1</td><td>0</td><td>C</td></tr></tbody></table></div>",
            "text/latex": "\\begin{tabular}{r|cccccc}\n\t& Survived & Pclass & Sex & SibSp & Parch & Embarked\\\\\n\t\\hline\n\t& Int64 & Int64 & String & Int64 & Int64 & String\\\\\n\t\\hline\n\t1 & 0 & 3 & male & 1 & 0 & S \\\\\n\t2 & 1 & 1 & female & 1 & 0 & C \\\\\n\t3 & 1 & 3 & female & 0 & 0 & S \\\\\n\t4 & 1 & 1 & female & 1 & 0 & S \\\\\n\t5 & 0 & 3 & male & 0 & 0 & S \\\\\n\t6 & 0 & 3 & male & 0 & 0 & Q \\\\\n\t7 & 0 & 1 & male & 0 & 0 & S \\\\\n\t8 & 0 & 3 & male & 3 & 1 & S \\\\\n\t9 & 1 & 3 & female & 0 & 2 & S \\\\\n\t10 & 1 & 2 & female & 1 & 0 & C \\\\\n\\end{tabular}\n"
          },
          "metadata": {}
        }
      ],
      "execution_count": 30,
      "metadata": {
        "execution": {
          "iopub.execute_input": "2021-10-07T20:59:10.499Z",
          "iopub.status.busy": "2021-10-07T20:59:10.495Z",
          "iopub.status.idle": "2021-10-07T20:59:10.607Z"
        },
        "jupyter": {
          "outputs_hidden": false,
          "source_hidden": false
        },
        "nteract": {
          "transient": {
            "deleting": false
          }
        },
        "collapsed": true
      }
    },
    {
      "cell_type": "code",
      "source": [
        "# Call the variable_importance function \n",
        "variable_importance(titanic, :Survived)"
      ],
      "outputs": [
        {
          "output_type": "execute_result",
          "execution_count": 31,
          "data": {
            "text/plain": "\u001b[1m5×3 DataFrame\u001b[0m\n\u001b[1m Row \u001b[0m│\u001b[1m feature  \u001b[0m\u001b[1m test          \u001b[0m\u001b[1m pvalue  \u001b[0m\n\u001b[1m     \u001b[0m│\u001b[90m String   \u001b[0m\u001b[90m String        \u001b[0m\u001b[90m Float64 \u001b[0m\n─────┼──────────────────────────────────\n   1 │ Pclass    ChiSquared         0.0\n   2 │ Sex       KruskalWallis      0.0\n   3 │ SibSp     ChiSquared         0.0\n   4 │ Parch     ChiSquared         0.0\n   5 │ Embarked  KruskalWallis      0.0",
            "text/html": "<div class=\"data-frame\"><p>5 rows × 3 columns</p><table class=\"data-frame\"><thead><tr><th></th><th>feature</th><th>test</th><th>pvalue</th></tr><tr><th></th><th title=\"String\">String</th><th title=\"String\">String</th><th title=\"Float64\">Float64</th></tr></thead><tbody><tr><th>1</th><td>Pclass</td><td>ChiSquared</td><td>0.0</td></tr><tr><th>2</th><td>Sex</td><td>KruskalWallis</td><td>0.0</td></tr><tr><th>3</th><td>SibSp</td><td>ChiSquared</td><td>0.0</td></tr><tr><th>4</th><td>Parch</td><td>ChiSquared</td><td>0.0</td></tr><tr><th>5</th><td>Embarked</td><td>KruskalWallis</td><td>0.0</td></tr></tbody></table></div>",
            "text/latex": "\\begin{tabular}{r|ccc}\n\t& feature & test & pvalue\\\\\n\t\\hline\n\t& String & String & Float64\\\\\n\t\\hline\n\t1 & Pclass & ChiSquared & 0.0 \\\\\n\t2 & Sex & KruskalWallis & 0.0 \\\\\n\t3 & SibSp & ChiSquared & 0.0 \\\\\n\t4 & Parch & ChiSquared & 0.0 \\\\\n\t5 & Embarked & KruskalWallis & 0.0 \\\\\n\\end{tabular}\n"
          },
          "metadata": {}
        }
      ],
      "execution_count": 31,
      "metadata": {
        "execution": {
          "iopub.execute_input": "2021-10-07T21:00:13.919Z",
          "iopub.status.busy": "2021-10-07T21:00:13.916Z",
          "iopub.status.idle": "2021-10-07T21:00:13.926Z"
        },
        "jupyter": {
          "outputs_hidden": false,
          "source_hidden": false
        },
        "nteract": {
          "transient": {
            "deleting": false
          }
        }
      }
    },
    {
      "cell_type": "code",
      "source": [
        "This seems to suggest that all of these select variables effect survival.  "
      ],
      "outputs": [],
      "execution_count": null,
      "metadata": {
        "collapsed": true,
        "jupyter": {
          "source_hidden": false,
          "outputs_hidden": false
        },
        "nteract": {
          "transient": {
            "deleting": false
          }
        }
      }
    }
  ],
  "metadata": {
    "kernel_info": {
      "name": "julia-1.6"
    },
    "kernelspec": {
      "display_name": "Julia 1.7.0-rc1",
      "language": "julia",
      "name": "julia-1.7"
    },
    "language_info": {
      "file_extension": ".jl",
      "name": "julia",
      "mimetype": "application/julia",
      "version": "1.7.0"
    },
    "nteract": {
      "version": "0.28.0"
    }
  },
  "nbformat": 4,
  "nbformat_minor": 1
}